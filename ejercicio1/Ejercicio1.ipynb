{
 "cells": [
  {
   "cell_type": "markdown",
   "metadata": {},
   "source": [
    "# Análisis estadístico del clima\n",
    "\n",
    "El set de datos adjunto (`wheather.csv`) contiene información obtenida de 122 estaciones climatológicas ubicadas en la región sudeste de Brasil. Cada registro representa una hora de información sobre el clima. Los registros fueron generados entre 2010 y 2016, por lo que generan un volumen de datos bastante grande.\n",
    "\n",
    "Selecciones tres ciudades del listado adjunto, conforme a su número de grupo. Utilizando los datos de esas ciudades, responda los siguientes cuestionamientos utilizando la librería Pandas. Recuerde que cada respuesta debe ser acompañada de los datos que respalden su veracidad. El resultado debe ser entregado en un Jupyter Notebook con los datos de los integrantes del grupo.\n",
    "\n",
    "## Parte 1\n",
    "\n",
    "Para cada ciudad, debe calcular la media, el mínimo, el máximo y la desviación estándar de las siguientes dimensiones:\n",
    "\n",
    "- Temperatura (`temperature`)\n",
    "- Presión del aire (`air_pressure`)\n",
    "- Humedad (`humidity`)\n",
    "\n",
    "Para cada dimensión, responda a las siguientes preguntas:\n",
    "\n",
    "1. ¿En promedio, qué ciudad registra los valores más altos?\n",
    "2. ¿Qué ciudad registró el valor más alto de todos?\n",
    "3. ¿Qué ciudad registró el valor más bajo de todos?\n",
    "4. ¿En qué ciudad varía más el registro de los valores?\n",
    "\n",
    "## Parte 2\n",
    "\n",
    "Responda las siguientes preguntas:\n",
    "\n",
    "1. ¿Para cada ciudad, qué año registró el promedio más alto de temperatura?\n",
    "2. ¿Qué ciudad tiene la mayor cantidad de muestras?\n",
    "3. ¿Para cada ciudad, en qué año se registró la mayor cantidad de datos?\n",
    "4. ¿Qué ciudad registró el año con la humedad más variada y en cuál fue ese año?\n",
    "5. ¿Qué ciudad cuenta con la presión del aire menos variada?\n",
    "6. ¿Para cada ciudad, cuál es el mes que registra las temperaturas más bajas?"
   ]
  },
  {
   "cell_type": "code",
   "execution_count": 1,
   "metadata": {},
   "outputs": [],
   "source": [
    "ciudades = [\n",
    "    'Belo Horizonte',\n",
    "    'Campina Verde',\n",
    "    'Petrópolis',\n",
    "    \n",
    "    'Vitória',\n",
    "    'Sorocaba',\n",
    "    'Guarujá',\n",
    "    \n",
    "    'Pirapora',\n",
    "    'Manhuaçu',\n",
    "    'Maria da Fé',\n",
    "    \n",
    "    'Votuporanga',\n",
    "    'Ourinhos',\n",
    "    'Passa Quatro',\n",
    "    \n",
    "    'Mantena',\n",
    "    'João Pinheiro',\n",
    "    'Barueri',\n",
    "    \n",
    "    'Ituverava',\n",
    "    'Campos dos Goytacazes',\n",
    "    'Pradópolis',\n",
    "    \n",
    "    'Juiz de Fora',\n",
    "    'Piracicaba',\n",
    "    'Silva Jardim',\n",
    "    \n",
    "    'Nova Venécia',\n",
    "    'Salinas',\n",
    "    'Ituiutaba',\n",
    "    \n",
    "    'Capelinha',\n",
    "    'São Mateus',\n",
    "    'Pompéu',\n",
    "    \n",
    "    'Alegre',\n",
    "    'Montalvânia',\n",
    "    'Alfredo Chaves'\n",
    "]"
   ]
  },
  {
   "cell_type": "markdown",
   "metadata": {},
   "source": [
    "## Respuesta 1\n",
    "\n",
    "La ciudad que jfklfdsjlkfdsjflkdsjlkf jdslkf sdlk flkds"
   ]
  }
 ],
 "metadata": {
  "kernelspec": {
   "display_name": "Python 3",
   "language": "python",
   "name": "python3"
  },
  "language_info": {
   "codemirror_mode": {
    "name": "ipython",
    "version": 3
   },
   "file_extension": ".py",
   "mimetype": "text/x-python",
   "name": "python",
   "nbconvert_exporter": "python",
   "pygments_lexer": "ipython3",
   "version": "3.6.3"
  }
 },
 "nbformat": 4,
 "nbformat_minor": 2
}
