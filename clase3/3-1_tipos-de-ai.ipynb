{
 "cells": [
  {
   "cell_type": "markdown",
   "metadata": {},
   "source": [
    "# Tipos de inteligencia artificial\n",
    "\n",
    "> Luis Carlos Contreras, UMG\n",
    "\n",
    "La inteligencia artificial (AI) tiene muchas definiciones y puede tomar la forma de varios conceptos. Un término muy utilizado hoy día para referirse a ella es _Machine Learning_ (ML). Ciertos académicos indican que ML es un campo de la AI, mientras que otros utilizan ambos términos con el mismo significado. Debido a que en este curso se exploran diferentes tipos de modelos e implementaciones de AI, conoceremos ML como un campo de la misma."
   ]
  },
  {
   "cell_type": "markdown",
   "metadata": {},
   "source": [
    "## Machine Learning\n",
    "\n",
    "ML es una serie de técnicas por las cuáles un algoritmo puede \"aprender\" a partir de datos pasados, utilizando métodos estadísticos."
   ]
  },
  {
   "cell_type": "markdown",
   "metadata": {},
   "source": [
    "Escribe tu propia definición, aquí:\n",
    "\n"
   ]
  },
  {
   "cell_type": "markdown",
   "metadata": {},
   "source": [
    "## Tipos de ML\n",
    "\n",
    "A grandes rasgos, un algoritmo de ML puede aprender utilizando cualquiera de los siguientes métodos:\n",
    "\n",
    "- Aprendizaje supervisado (Supervised Learning):\n",
    "- Aprendizaje no supervisado (Unsupervised Learning):\n"
   ]
  },
  {
   "cell_type": "code",
   "execution_count": null,
   "metadata": {
    "collapsed": true
   },
   "outputs": [],
   "source": []
  }
 ],
 "metadata": {
  "kernelspec": {
   "display_name": "Python 3",
   "language": "python",
   "name": "python3"
  },
  "language_info": {
   "codemirror_mode": {
    "name": "ipython",
    "version": 3
   },
   "file_extension": ".py",
   "mimetype": "text/x-python",
   "name": "python",
   "nbconvert_exporter": "python",
   "pygments_lexer": "ipython3",
   "version": "3.6.3"
  }
 },
 "nbformat": 4,
 "nbformat_minor": 2
}
