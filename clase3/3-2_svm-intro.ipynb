{
 "cells": [
  {
   "cell_type": "markdown",
   "metadata": {},
   "source": [
    "# Máquinas de soporte vectorial (SVM)\n",
    "\n",
    "Las SVM son un modelo de ML que utiliza Supervised Learning para resolver problemas de regresión y clasificación. Funcionan transformando los datos en diferentes representaciones numéricas, que luego se utilizan para crear vectores que separan los registros en distintos sectores dentro de un plano dimensional.\n",
    "\n",
    "![muestra de SVM](src/1.png)\n",
    "\n",
    "> Clasificador de datos usando una SVM, tomado de la documentación de SciKit Learn"
   ]
  },
  {
   "cell_type": "markdown",
   "metadata": {},
   "source": [
    "## Funcionamiento\n",
    "\n",
    "El aprendizaje de una SVM funciona realizando operaciones de matrices entre las características, para luego relacionarlas con las etiquetas. A la función utilizada para operar estas matrices se le llama **kernel**. Existen diversos tipos de kernel, siendo los más populares:\n",
    "\n",
    "#### Lineal (`linear`)\n",
    "\n",
    "Producto punto entre las matrices. Crea líneas \"rectas\" que separan las clases.\n",
    "\n",
    "![Kernel lineal](src/linear.png)\n",
    "\n",
    "#### Polinomial (`poly`)\n",
    "\n",
    "Permite establecer espacios de decisión de tal forma que las líneas se _doblen_ como parábolas.\n",
    "\n",
    "![Kernel polinopial](src/poly.png)\n",
    "\n",
    "#### RBF (`rbf`)\n",
    "\n",
    "Realiza operaciones con integrales, de tal forma que cada muestra pueda ser un _centro_ de espacios de decisión.\n",
    "\n",
    "![Kernel rbf](src/rbf.png)"
   ]
  },
  {
   "cell_type": "markdown",
   "metadata": {},
   "source": [
    "## Ventajas\n",
    "\n",
    "Las SVM tienen muchas aplicaciones:\n",
    "\n",
    "- Efectivas con grandes cantidades de parámetros.\n",
    "- Son muy eficientes con el uso de memoria.\n",
    "- Son versátiles, pues la forma de calcular los vectores puede ser muy variada.\n",
    "\n",
    "## Desventajas\n",
    "\n",
    "- Sus resultados no son completamente probabilísticos, por lo que la validación debe ser realizada por maneras que consumen mucho tiempo y recursos.\n",
    "- Entrenar una SVM consume demasiados recursos y suele tomar mucho tiempo."
   ]
  }
 ],
 "metadata": {
  "kernelspec": {
   "display_name": "Python 3",
   "language": "python",
   "name": "python3"
  },
  "language_info": {
   "codemirror_mode": {
    "name": "ipython",
    "version": 3
   },
   "file_extension": ".py",
   "mimetype": "text/x-python",
   "name": "python",
   "nbconvert_exporter": "python",
   "pygments_lexer": "ipython3",
   "version": "3.6.3"
  }
 },
 "nbformat": 4,
 "nbformat_minor": 2
}
