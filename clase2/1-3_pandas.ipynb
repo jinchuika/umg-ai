{
 "cells": [
  {
   "cell_type": "markdown",
   "metadata": {},
   "source": [
    "## Pasos para crear un modelo de inteligencia artificial\n",
    "\n",
    "1. Obtención de datos\n",
    "2. Exploración de datos\n",
    "3. Limpieza / formato de datos\n",
    "4. Creación del modelo\n",
    "5. Entrenamiento del modelo\n",
    "6. Pruebas de rendimiento\n",
    "7. Implementación"
   ]
  },
  {
   "cell_type": "markdown",
   "metadata": {},
   "source": [
    "## Conceptos útiles sobre estadística\n",
    "\n",
    "### Tipos de datos\n",
    "\n",
    "- Discretos\n",
    "- Continuos\n",
    "\n",
    "### Conceptos básicos de estadística descriptiva\n",
    "\n",
    "- Distribución\n",
    "- Media\n",
    "- Moda\n",
    "- Desviación estándar\n",
    "- Correlación\n"
   ]
  },
  {
   "cell_type": "code",
   "execution_count": null,
   "metadata": {},
   "outputs": [],
   "source": [
    "# Manipulación de datos\n",
    "import pandas as pd\n",
    "# Operaciones numéricas\n",
    "import numpy as np\n",
    "# Creación de gráficos y visualizaciones\n",
    "import matplotlib.pyplot as plt"
   ]
  },
  {
   "cell_type": "code",
   "execution_count": null,
   "metadata": {},
   "outputs": [],
   "source": [
    "# Datos categóricos\n",
    "nombres = ['Bulba', 'Squir', 'Char', 'Cynda', 'Chiko', 'Toto']\n",
    "correlativo = [1, 4, 9, 155, 152, 158]\n",
    "\n",
    "# Datos continuos\n",
    "altura = [3.1, 5.2, 4.8, 2.9, 4.3, 4.9]\n",
    "\n",
    "\n",
    "# Crear un diccionario de listas\n",
    "estructura = {\n",
    "    'nombres': nombres,\n",
    "    'correlativo': correlativo,\n",
    "    'altura': altura\n",
    "}\n",
    "\n",
    "# Crear un set de datos\n",
    "pok_df = pd.DataFrame(estructura)\n",
    "\n",
    "pok_df"
   ]
  },
  {
   "cell_type": "code",
   "execution_count": null,
   "metadata": {},
   "outputs": [],
   "source": [
    "# Creación de un conjunto de datos aleatorios\n",
    "prueba_df = pd.DataFrame(\n",
    "    np.random.randint(1, 10, size=(10, 5)),\n",
    "    columns=['A', 'B', 'C', 'D', 'E']\n",
    ")\n",
    "\n",
    "prueba_df"
   ]
  },
  {
   "cell_type": "code",
   "execution_count": null,
   "metadata": {},
   "outputs": [],
   "source": [
    "# Distribución\n",
    "df.boxplot()\n",
    "plt.show()"
   ]
  },
  {
   "cell_type": "code",
   "execution_count": null,
   "metadata": {},
   "outputs": [],
   "source": [
    "# Media\n",
    "df.mean()"
   ]
  },
  {
   "cell_type": "code",
   "execution_count": null,
   "metadata": {},
   "outputs": [],
   "source": [
    "# Mode\n",
    "df.mode()"
   ]
  },
  {
   "cell_type": "code",
   "execution_count": null,
   "metadata": {},
   "outputs": [],
   "source": [
    "# Desviación estándar\n",
    "df.std()"
   ]
  },
  {
   "cell_type": "code",
   "execution_count": null,
   "metadata": {},
   "outputs": [],
   "source": [
    "# Correlación\n",
    "df.corr()"
   ]
  }
 ],
 "metadata": {
  "kernelspec": {
   "display_name": "Python 3",
   "language": "python",
   "name": "python3"
  },
  "language_info": {
   "codemirror_mode": {
    "name": "ipython",
    "version": 3
   },
   "file_extension": ".py",
   "mimetype": "text/x-python",
   "name": "python",
   "nbconvert_exporter": "python",
   "pygments_lexer": "ipython3",
   "version": "3.6.5"
  }
 },
 "nbformat": 4,
 "nbformat_minor": 2
}
