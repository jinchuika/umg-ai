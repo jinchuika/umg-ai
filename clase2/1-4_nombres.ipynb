{
 "cells": [
  {
   "cell_type": "code",
   "execution_count": null,
   "metadata": {},
   "outputs": [],
   "source": [
    "import pandas as pd\n",
    "import numpy as np"
   ]
  },
  {
   "cell_type": "markdown",
   "metadata": {},
   "source": [
    "El set de datos de **nombres** contiene los registros de la cantidad de personas con un nombre específico, nacidas por año en cada estado de Estados Unidos, desde 1910 hasta 2017."
   ]
  },
  {
   "cell_type": "markdown",
   "metadata": {},
   "source": [
    "Pandas permite leer diversos tipos de archivo, como csv, json, xlsx, etc. Usualmente, los datos a utilizar en inteligencia artificial se almacenan en formato csv."
   ]
  },
  {
   "cell_type": "code",
   "execution_count": null,
   "metadata": {},
   "outputs": [],
   "source": [
    "# Leer el archivo nombres.csv y convertirlo en un df\n",
    "df_base = pd.read_csv('nombres.csv')\n",
    "# Ver los primeros registros del df\n",
    "df_base.head()"
   ]
  },
  {
   "cell_type": "code",
   "execution_count": null,
   "metadata": {},
   "outputs": [],
   "source": [
    "# Mostrar información sobre el df creado\n",
    "df_base.info()"
   ]
  },
  {
   "cell_type": "markdown",
   "metadata": {},
   "source": [
    "## Encontrando a Mary\n",
    "\n",
    "El primer registro muestra que en el estado `MO` nacieron 611 **mujeres** llamadas _Mary_ durante el año 1910. Ante esto podríamos plantearnos las siguientes interrogantes:\n",
    "\n",
    "- ¿Hay hombres llamados Mary?\n",
    "- ¿Cuál es la cantidad de hombres llamados Mary en cada estado?\n",
    "- ¿Cuál es la cantidad promedio de hombres llamados Mary en cada estado?\n",
    "- ¿Cuáles son los tres estados donde hay más hombres llamados Mary?\n",
    "\n",
    "Vamos a resolver dichas interrogantes en el siguiente ejemplo."
   ]
  },
  {
   "cell_type": "markdown",
   "metadata": {},
   "source": [
    "Lo primero será obtener todos los registros de hombres llamados Mary en todo el conjunto de datos."
   ]
  },
  {
   "cell_type": "code",
   "execution_count": null,
   "metadata": {},
   "outputs": [],
   "source": [
    "# Las condiciones se definen como muestra el ejemplo\n",
    "# Almacenamos el resultado del filtro en una nueva variable llamada df_mary\n",
    "df_mary = df_base[\n",
    "    (df_base['sex'] == 'M') &\n",
    "    (df_base['name'] == 'Mary')\n",
    "]\n",
    "# Consultamos los primeros cinco registros\n",
    "df_mary.head()"
   ]
  },
  {
   "cell_type": "markdown",
   "metadata": {},
   "source": [
    "Los datos de `sex` y `name` ya no son relevantes para este set de datos, pues sabemos que todos son `M` y `Mary` respectivamente. Además, ya que no tendremos en cuenta el año para el análisis, tampoco vamos a necesitarlo.\n",
    "\n",
    "Ya que únicamente necesitamos dos datos para el análisis, podemos crear otro df que contenga únicamente esos dos datos."
   ]
  },
  {
   "cell_type": "code",
   "execution_count": null,
   "metadata": {},
   "outputs": [],
   "source": [
    "# Generar un nuevo df\n",
    "nuevo_df = df_mary[['state', 'quantity']]\n",
    "nuevo_df.head()"
   ]
  },
  {
   "cell_type": "markdown",
   "metadata": {},
   "source": [
    "### Bonus:\n",
    "\n",
    "Si quisiéramos saber cuántos hombres Mary han habido en total, podemos generar la sumatoria de forma similar a la estadística descriptiva."
   ]
  },
  {
   "cell_type": "code",
   "execution_count": null,
   "metadata": {},
   "outputs": [],
   "source": [
    "nuevo_df[['quantity']].sum()"
   ]
  },
  {
   "cell_type": "markdown",
   "metadata": {},
   "source": [
    "Ahora que tenemos el set de datos que necesitamos, podemos agrupar la información para realizar el análisis propuesto. Los grupos en un df se crean con el método `groupby`, indicando la serie por la que se desea agrupar.\n",
    "\n",
    "Una vez se han agrupado, es necesario establecer una función de agregación, que servirá para establecer la forma de manipular los datos no agrupados. Esta agregación se realiza con el método `agg` de un df agrupado, indicando como parámetro la función a utilizar."
   ]
  },
  {
   "cell_type": "code",
   "execution_count": null,
   "metadata": {},
   "outputs": [],
   "source": [
    "# Agrupar por estado utilizando la función sum\n",
    "estados_df = nuevo_df.groupby('state').agg('sum')\n",
    "estados_df.head()"
   ]
  },
  {
   "cell_type": "code",
   "execution_count": null,
   "metadata": {},
   "outputs": [],
   "source": [
    "# Consultar todos los registros del nuevo DataFrame\n",
    "estados_df"
   ]
  },
  {
   "cell_type": "code",
   "execution_count": null,
   "metadata": {},
   "outputs": [],
   "source": [
    "# Reto:\n",
    "# Obtener la cantidad promedio de Mary por estado usando estados_df\n"
   ]
  },
  {
   "cell_type": "code",
   "execution_count": null,
   "metadata": {},
   "outputs": [],
   "source": [
    "# Ordenar el set de datos por la mayor cantidad\n",
    "estados_df.sort_values('quantity', ascending=False)"
   ]
  },
  {
   "cell_type": "code",
   "execution_count": null,
   "metadata": {},
   "outputs": [],
   "source": [
    "# Reto\n",
    "# Obtener los 10 registros con la mayor cantidad de Mary"
   ]
  },
  {
   "cell_type": "markdown",
   "metadata": {},
   "source": [
    "Al utilizar una serie para agrupar un df, esa serie se convierte en el nuevo índice."
   ]
  },
  {
   "cell_type": "code",
   "execution_count": null,
   "metadata": {},
   "outputs": [],
   "source": [
    "# Por ello es posible acceder por estado\n",
    "estados_df.loc['CA']"
   ]
  },
  {
   "cell_type": "code",
   "execution_count": null,
   "metadata": {},
   "outputs": [],
   "source": [
    "# Para convertir el índice en una columna del df, se puede generar uno nuevo aleatorio con reset_index\n",
    "# Nota al uso de inplace=True para modificar el df\n",
    "estados_df.reset_index(inplace=True)\n",
    "estados_df\n"
   ]
  },
  {
   "cell_type": "markdown",
   "metadata": {},
   "source": [
    "Finalmente, cualquier df puede ser exportado a diversos formatos. Por ejemplo, exportemos `estados_df` a un archivo de excel."
   ]
  },
  {
   "cell_type": "code",
   "execution_count": null,
   "metadata": {},
   "outputs": [],
   "source": [
    "estados_df.to_excel('estados_mary.xlsx', index=None)"
   ]
  }
 ],
 "metadata": {
  "kernelspec": {
   "display_name": "Python 3",
   "language": "python",
   "name": "python3"
  },
  "language_info": {
   "codemirror_mode": {
    "name": "ipython",
    "version": 3
   },
   "file_extension": ".py",
   "mimetype": "text/x-python",
   "name": "python",
   "nbconvert_exporter": "python",
   "pygments_lexer": "ipython3",
   "version": "3.6.3"
  }
 },
 "nbformat": 4,
 "nbformat_minor": 2
}
