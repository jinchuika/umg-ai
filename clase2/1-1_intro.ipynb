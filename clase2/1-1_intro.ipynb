{
 "cells": [
  {
   "cell_type": "markdown",
   "metadata": {},
   "source": [
    "# Conceptos generales para empezar con AI\n",
    "> Inteligencia Artificial, UMG Chimaltenango. Luis Carlos Contreras\n",
    "\n",
    "## Áreas científicas aplicadas en inteligencia artificial\n",
    "\n",
    "La inteligencia artificial (AI), aplicada a computación, es el uso de técnicas matemáticas para generar inferencias y emular resultados de acciones humanas por medio de algoritmos.\n",
    "\n",
    "En la AI se unen varias áreas de la matemática y ciencias de la computación. Principalmente:\n",
    "\n",
    "- **Estadística**: Utilizada para conocer, manipular y descubrir patrones en conjuntos de datos (dataset) que puedan ser utilizados para aprender.\n",
    "- **Cálculo diferencial**: Brinda las técnicas de optimización para mejorar el rendimiento de los modelos generados.\n",
    "- **Álgebra lineal**: Establece los medios para hacer operaciones sobre los datasets.\n",
    "- **Probabilidad**: El medido por el cual se expresan los resultados y las inferencias generadas por los modelos.\n",
    "- **Estructuras de datos**: Permiten operar los datasets de manera que sean accesibles y operables para un algoritmo o computadora.\n",
    "\n"
   ]
  },
  {
   "cell_type": "markdown",
   "metadata": {},
   "source": [
    "## Pasos para crear un modelo de inteligencia artificial\n",
    "\n",
    "1. Obtención de datos\n",
    "2. Exploración de datos\n",
    "3. Limpieza / formato de datos\n",
    "4. Creación del modelo\n",
    "5. Entrenamiento del modelo\n",
    "6. Pruebas de rendimiento\n",
    "7. Implementación"
   ]
  }
 ],
 "metadata": {
  "kernelspec": {
   "display_name": "Python 3",
   "language": "python",
   "name": "python3"
  },
  "language_info": {
   "codemirror_mode": {
    "name": "ipython",
    "version": 3
   },
   "file_extension": ".py",
   "mimetype": "text/x-python",
   "name": "python",
   "nbconvert_exporter": "python",
   "pygments_lexer": "ipython3",
   "version": "3.7.1"
  }
 },
 "nbformat": 4,
 "nbformat_minor": 2
}
