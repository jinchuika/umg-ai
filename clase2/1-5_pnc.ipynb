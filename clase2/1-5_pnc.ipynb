{
 "cells": [
  {
   "cell_type": "code",
   "execution_count": 23,
   "metadata": {},
   "outputs": [],
   "source": [
    "import numpy as np\n",
    "import pandas as pd\n",
    "import matplotlib.pyplot as plt\n",
    "import os"
   ]
  },
  {
   "cell_type": "code",
   "execution_count": 2,
   "metadata": {},
   "outputs": [
    {
     "name": "stdout",
     "output_type": "stream",
     "text": [
      "<class 'pandas.core.frame.DataFrame'>\n",
      "RangeIndex: 38569 entries, 0 to 38568\n",
      "Data columns (total 21 columns):\n",
      "núm_corre_f            38569 non-null int64\n",
      "núm_corre              38569 non-null int64\n",
      "año_ocu                38569 non-null int64\n",
      "mes_ocu                38569 non-null int64\n",
      "día_ocu                38569 non-null int64\n",
      "día_sem_ocu            38569 non-null int64\n",
      "hora_ocu               38569 non-null int64\n",
      "g_hora                 38569 non-null int64\n",
      "g_hora_mañ.tar.noch    38569 non-null int64\n",
      "área_geo_ocu           38569 non-null int64\n",
      "depto_ocu              38569 non-null int64\n",
      "mupio_ocu              38569 non-null int64\n",
      "zona_ocu               38569 non-null int64\n",
      "sexo_per               38569 non-null int64\n",
      "edad_per               38569 non-null int64\n",
      "g_edad_60ymás          38569 non-null int64\n",
      "g_edad_80ymás          38569 non-null int64\n",
      "edad_quinquenales      38569 non-null int64\n",
      "menor_mayor            38569 non-null int64\n",
      "delito_com             38569 non-null int64\n",
      "g_delitos              38569 non-null int64\n",
      "dtypes: int64(21)\n",
      "memory usage: 6.2 MB\n"
     ]
    }
   ],
   "source": [
    "pnc_df = pd.read_excel('pnc_victimas.xlsx')\n",
    "pnc_df.info()"
   ]
  },
  {
   "cell_type": "code",
   "execution_count": 10,
   "metadata": {},
   "outputs": [
    {
     "data": {
      "text/html": [
       "<div>\n",
       "<style scoped>\n",
       "    .dataframe tbody tr th:only-of-type {\n",
       "        vertical-align: middle;\n",
       "    }\n",
       "\n",
       "    .dataframe tbody tr th {\n",
       "        vertical-align: top;\n",
       "    }\n",
       "\n",
       "    .dataframe thead th {\n",
       "        text-align: right;\n",
       "    }\n",
       "</style>\n",
       "<table border=\"1\" class=\"dataframe\">\n",
       "  <thead>\n",
       "    <tr style=\"text-align: right;\">\n",
       "      <th></th>\n",
       "      <th>año_ocu</th>\n",
       "      <th>mes_ocu</th>\n",
       "      <th>día_ocu</th>\n",
       "      <th>hora_ocu</th>\n",
       "      <th>depto_ocu</th>\n",
       "      <th>mupio_ocu</th>\n",
       "    </tr>\n",
       "  </thead>\n",
       "  <tbody>\n",
       "    <tr>\n",
       "      <th>0</th>\n",
       "      <td>2016</td>\n",
       "      <td>1</td>\n",
       "      <td>1</td>\n",
       "      <td>0</td>\n",
       "      <td>1</td>\n",
       "      <td>101</td>\n",
       "    </tr>\n",
       "    <tr>\n",
       "      <th>1</th>\n",
       "      <td>2016</td>\n",
       "      <td>1</td>\n",
       "      <td>1</td>\n",
       "      <td>8</td>\n",
       "      <td>6</td>\n",
       "      <td>602</td>\n",
       "    </tr>\n",
       "    <tr>\n",
       "      <th>2</th>\n",
       "      <td>2016</td>\n",
       "      <td>1</td>\n",
       "      <td>1</td>\n",
       "      <td>8</td>\n",
       "      <td>2</td>\n",
       "      <td>204</td>\n",
       "    </tr>\n",
       "    <tr>\n",
       "      <th>3</th>\n",
       "      <td>2016</td>\n",
       "      <td>1</td>\n",
       "      <td>2</td>\n",
       "      <td>15</td>\n",
       "      <td>1</td>\n",
       "      <td>105</td>\n",
       "    </tr>\n",
       "    <tr>\n",
       "      <th>4</th>\n",
       "      <td>2016</td>\n",
       "      <td>1</td>\n",
       "      <td>2</td>\n",
       "      <td>19</td>\n",
       "      <td>1</td>\n",
       "      <td>101</td>\n",
       "    </tr>\n",
       "  </tbody>\n",
       "</table>\n",
       "</div>"
      ],
      "text/plain": [
       "   año_ocu  mes_ocu  día_ocu  hora_ocu  depto_ocu  mupio_ocu\n",
       "0     2016        1        1         0          1        101\n",
       "1     2016        1        1         8          6        602\n",
       "2     2016        1        1         8          2        204\n",
       "3     2016        1        2        15          1        105\n",
       "4     2016        1        2        19          1        101"
      ]
     },
     "execution_count": 10,
     "metadata": {},
     "output_type": "execute_result"
    }
   ],
   "source": [
    "pnc_df[['año_ocu', 'mes_ocu', 'día_ocu', 'hora_ocu', 'depto_ocu', 'mupio_ocu']].head()"
   ]
  },
  {
   "cell_type": "code",
   "execution_count": 19,
   "metadata": {},
   "outputs": [
    {
     "data": {
      "image/png": "[encoded data removed]",
      "text/plain": [
       "<Figure size 432x288 with 1 Axes>"
      ]
     },
     "metadata": {},
     "output_type": "display_data"
    },
    {
     "name": "stdout",
     "output_type": "stream",
     "text": [
      "1    22119\n",
      "2    16382\n",
      "9       68\n",
      "Name: área_geo_ocu, dtype: int64\n"
     ]
    }
   ],
   "source": [
    "pnc_df['área_geo_ocu'].hist()\n",
    "plt.show()\n",
    "print(pnc_df['área_geo_ocu'].value_counts())"
   ]
  },
  {
   "cell_type": "code",
   "execution_count": 32,
   "metadata": {},
   "outputs": [],
   "source": [
    "# pd.read_csv('nombres/AK.TXT', header=None)\n",
    "nombres = os.listdir('nombres/')\n",
    "df_gen = pd.concat(\n",
    "    [pd.read_csv(f'nombres/{archivo}', header=None) for archivo in nombres],\n",
    "    ignore_index=True\n",
    ")"
   ]
  },
  {
   "cell_type": "code",
   "execution_count": 36,
   "metadata": {},
   "outputs": [
    {
     "name": "stdout",
     "output_type": "stream",
     "text": [
      "<class 'pandas.core.frame.DataFrame'>\n",
      "RangeIndex: 5933561 entries, 0 to 5933560\n",
      "Data columns (total 5 columns):\n",
      "state       object\n",
      "sex         object\n",
      "year        int64\n",
      "name        object\n",
      "quantity    int64\n",
      "dtypes: int64(2), object(3)\n",
      "memory usage: 226.3+ MB\n"
     ]
    }
   ],
   "source": [
    "df_gen.columns = ['state', 'sex', 'year', 'name', 'quantity']\n",
    "df_gen.to_csv('nombres.csv', index=False)\n",
    "df_gen.info()"
   ]
  }
 ],
 "metadata": {
  "kernelspec": {
   "display_name": "Python 3",
   "language": "python",
   "name": "python3"
  },
  "language_info": {
   "codemirror_mode": {
    "name": "ipython",
    "version": 3
   },
   "file_extension": ".py",
   "mimetype": "text/x-python",
   "name": "python",
   "nbconvert_exporter": "python",
   "pygments_lexer": "ipython3",
   "version": "3.6.5"
  }
 },
 "nbformat": 4,
 "nbformat_minor": 2
}
