{
 "cells": [
  {
   "cell_type": "code",
   "execution_count": 1,
   "metadata": {
    "collapsed": true
   },
   "outputs": [],
   "source": [
    "# Por lo general, se incluirán estos dos paquetes al inicio.\n",
    "# En este caso en particular, las estructuras de datos son \"simples\".\n",
    "# Debido a que no tendremos estructuras complejas, estos paquetes no serán necesarios\n",
    "import pandas as pd\n",
    "import numpy as np"
   ]
  },
  {
   "cell_type": "markdown",
   "metadata": {},
   "source": [
    "## Estructuras de datos\n",
    "\n",
    "Los datos a utilizar en inteligencia artificial se representan en **matrices**.\n",
    "\n",
    "El siguiente ejemplo, tenemos una matriz de **4x3**: 4 filas por 3 columnas.\n",
    "\n",
    "| Encabezado1 | Encabezado2 | Encabezado3 |\n",
    "| --- | --- | --- |\n",
    "| Dato1-1 | Dato1-2 | Dato1-3 |\n",
    "| Dato2-1 | Dato2-2 | Dato2-3 |\n",
    "| Dato3-1 | Dato3-2 | Dato3-3 |\n",
    "| Dato4-1 | Dato4-2 | Dato4-3 |\n",
    "\n",
    "En este caso, **la matriz es una estructura de 2 dimensiones**, pues tiene filas y columnas. Esta será la representación más común a utilizar durante el curso. Para comprender cómo crear una matriz de dos dimensiones, empecemos creando estructuras de una dimensión."
   ]
  },
  {
   "cell_type": "markdown",
   "metadata": {},
   "source": [
    "Las estructuras de datos básicas en Python son:\n",
    "\n",
    "- Listas\n",
    "- Diccionarios"
   ]
  },
  {
   "cell_type": "code",
   "execution_count": 1,
   "metadata": {},
   "outputs": [
    {
     "name": "stdout",
     "output_type": "stream",
     "text": [
      "['Gato', 'Perro', 'Caballo', 'Conejo']\n"
     ]
    }
   ],
   "source": [
    "# Ejemplo de lista\n",
    "\n",
    "mi_list = ['Gato', 'Perro', 'Caballo', 'Conejo']\n",
    "print(mi_list)"
   ]
  },
  {
   "cell_type": "code",
   "execution_count": 2,
   "metadata": {},
   "outputs": [
    {
     "name": "stdout",
     "output_type": "stream",
     "text": [
      "Caballo\n",
      "Conejo\n"
     ]
    }
   ],
   "source": [
    "# Se accede a cada dato en la lista utilizando el ìndice (INDEX), contando la posición desde 0\n",
    "print(mi_list[2])\n",
    "print(mi_list[3])"
   ]
  },
  {
   "cell_type": "code",
   "execution_count": 3,
   "metadata": {},
   "outputs": [
    {
     "ename": "IndexError",
     "evalue": "list index out of range",
     "output_type": "error",
     "traceback": [
      "\u001b[1;31m---------------------------------------------------------------------------\u001b[0m",
      "\u001b[1;31mIndexError\u001b[0m                                Traceback (most recent call last)",
      "\u001b[1;32m<ipython-input-3-bde0da6e8b40>\u001b[0m in \u001b[0;36m<module>\u001b[1;34m()\u001b[0m\n\u001b[0;32m      1\u001b[0m \u001b[1;31m# Al consultar un índice fuera del rango, obtendremos un IndexError\u001b[0m\u001b[1;33m\u001b[0m\u001b[1;33m\u001b[0m\u001b[0m\n\u001b[1;32m----> 2\u001b[1;33m \u001b[0mprint\u001b[0m\u001b[1;33m(\u001b[0m\u001b[0mmi_list\u001b[0m\u001b[1;33m[\u001b[0m\u001b[1;36m5\u001b[0m\u001b[1;33m]\u001b[0m\u001b[1;33m)\u001b[0m\u001b[1;33m\u001b[0m\u001b[0m\n\u001b[0m",
      "\u001b[1;31mIndexError\u001b[0m: list index out of range"
     ]
    }
   ],
   "source": [
    "# Al consultar un índice fuera del rango, obtendremos un IndexError\n",
    "print(mi_list[5])"
   ]
  },
  {
   "cell_type": "code",
   "execution_count": 4,
   "metadata": {},
   "outputs": [
    {
     "name": "stdout",
     "output_type": "stream",
     "text": [
      "{'edad': 19, 'nombre': 'Juan', 'altura': 1.75}\n"
     ]
    }
   ],
   "source": [
    "# Ejemplo de diccionario\n",
    "mi_dict = {\n",
    "    'edad': 19,\n",
    "    'nombre': 'Juan',\n",
    "    'altura': 1.75\n",
    "}\n",
    "print(mi_dict)"
   ]
  },
  {
   "cell_type": "code",
   "execution_count": 5,
   "metadata": {},
   "outputs": [
    {
     "name": "stdout",
     "output_type": "stream",
     "text": [
      "Juan\n",
      "19\n"
     ]
    }
   ],
   "source": [
    "# Se accede a cada dato utilizando la llave (KEY), que es el nombre identificando el valor\n",
    "print(mi_dict['nombre'])\n",
    "print(mi_dict['edad'])"
   ]
  },
  {
   "cell_type": "code",
   "execution_count": 6,
   "metadata": {},
   "outputs": [
    {
     "ename": "KeyError",
     "evalue": "'peso'",
     "output_type": "error",
     "traceback": [
      "\u001b[1;31m---------------------------------------------------------------------------\u001b[0m",
      "\u001b[1;31mKeyError\u001b[0m                                  Traceback (most recent call last)",
      "\u001b[1;32m<ipython-input-6-f788bbbe6df4>\u001b[0m in \u001b[0;36m<module>\u001b[1;34m()\u001b[0m\n\u001b[0;32m      1\u001b[0m \u001b[1;31m# Al consultar una llave que no existe en el diccionario, obtendremos un KeyError\u001b[0m\u001b[1;33m\u001b[0m\u001b[1;33m\u001b[0m\u001b[0m\n\u001b[1;32m----> 2\u001b[1;33m \u001b[0mprint\u001b[0m\u001b[1;33m(\u001b[0m\u001b[0mmi_dict\u001b[0m\u001b[1;33m[\u001b[0m\u001b[1;34m'peso'\u001b[0m\u001b[1;33m]\u001b[0m\u001b[1;33m)\u001b[0m\u001b[1;33m\u001b[0m\u001b[0m\n\u001b[0m",
      "\u001b[1;31mKeyError\u001b[0m: 'peso'"
     ]
    }
   ],
   "source": [
    "# Al consultar una llave que no existe en el diccionario, obtendremos un KeyError\n",
    "print(mi_dict['peso'])"
   ]
  },
  {
   "cell_type": "markdown",
   "metadata": {},
   "source": [
    "Al combinar las estructuras de datos, podemos generar más de una dimensión."
   ]
  },
  {
   "cell_type": "code",
   "execution_count": 9,
   "metadata": {},
   "outputs": [
    {
     "name": "stdout",
     "output_type": "stream",
     "text": [
      "['Juan', 'Pedro', 'Maria']\n",
      "Pedro\n",
      "10\n"
     ]
    }
   ],
   "source": [
    "# Las estructuras de datos pueden ser combinadas\n",
    "# por ejemplo, un diccionario de listas\n",
    "mi_comb = {\n",
    "    'nombres': ['Juan', 'Pedro', 'Maria'],\n",
    "    'edades': [20, 10, 15]\n",
    "}\n",
    "print(mi_comb['nombres'])\n",
    "print(mi_comb['nombres'][1])\n",
    "print(mi_comb['edades'][1])\n"
   ]
  },
  {
   "cell_type": "markdown",
   "metadata": {},
   "source": [
    "En el ejemplo anterior, la primer dimensión se estructura en un diccionario y cada registro es una lista. Se puede decir que es una estructura de **2x3** porque la primer dimensión (el diccionario) tiene dos registros y la segunda (las listas) tienen tres registros."
   ]
  },
  {
   "cell_type": "code",
   "execution_count": 10,
   "metadata": {},
   "outputs": [
    {
     "name": "stdout",
     "output_type": "stream",
     "text": [
      "[{'nombre': 'Juan', 'edad': 20}, {'nombre': 'Pedro', 'edad': 20}, {'nombre': 'Maria', 'edad': 15}]\n",
      "Pedro\n",
      "20\n"
     ]
    }
   ],
   "source": [
    "# o bien, una lista de diccionarios\n",
    "mi_otra_com = [\n",
    "    {\n",
    "        'nombre': 'Juan',\n",
    "        'edad': 20\n",
    "    },\n",
    "    {\n",
    "        'nombre': 'Pedro',\n",
    "        'edad': 20\n",
    "    },\n",
    "    {\n",
    "        'nombre': 'Maria',\n",
    "        'edad': 15\n",
    "    },\n",
    "]\n",
    "\n",
    "print(mi_otra_com)\n",
    "print(mi_otra_com[1]['nombre'])\n",
    "print(mi_otra_com[1]['edad'])"
   ]
  },
  {
   "cell_type": "markdown",
   "metadata": {},
   "source": [
    "## Reto 1\n",
    "\n",
    "Crear una _**lista de listas**_ llamada `nueva_lista` que contenga 3 registros de 3 registros cada uno. Imprimir el segundo valor del segundo registro."
   ]
  },
  {
   "cell_type": "code",
   "execution_count": null,
   "metadata": {
    "collapsed": true
   },
   "outputs": [],
   "source": [
    "# Reto 1 aquí\n"
   ]
  },
  {
   "cell_type": "markdown",
   "metadata": {},
   "source": [
    "## Reto 2\n",
    "\n",
    "Crear una _**lista de diccionarios**_ con tres diccionarios, donde cada uno contenga el registro de **`curso`**, **`inscritos`** y **`aprobados`**.\n",
    "\n",
    "Luego imprimir:\n",
    "\n",
    "- la cantidad de inscritos en el tercer registro\n",
    "- la cantidad de aprobados en el último registro\n",
    "- el porcentaje de aprobados en el segundo registro"
   ]
  },
  {
   "cell_type": "code",
   "execution_count": null,
   "metadata": {
    "collapsed": true
   },
   "outputs": [],
   "source": [
    "# Reto 2 aquí\n"
   ]
  }
 ],
 "metadata": {
  "kernelspec": {
   "display_name": "Python 3",
   "language": "python",
   "name": "python3"
  },
  "language_info": {
   "codemirror_mode": {
    "name": "ipython",
    "version": 3
   },
   "file_extension": ".py",
   "mimetype": "text/x-python",
   "name": "python",
   "nbconvert_exporter": "python",
   "pygments_lexer": "ipython3",
   "version": "3.6.3"
  }
 },
 "nbformat": 4,
 "nbformat_minor": 2
}
