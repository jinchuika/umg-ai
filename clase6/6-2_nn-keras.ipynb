{
 "cells": [
  {
   "cell_type": "markdown",
   "metadata": {},
   "source": [
    "# Keras\n",
    "\n",
    "Keras es una librería de alto nivel para generar redes neuronales. Fue concebida para funcionar como una interfaz amigable hacia el framework de inteligencia artificial *Tensorflow*, desarrollado por Google.\n",
    "\n",
    "_Código tomado en parte de [este link](https://machinelearningmastery.com/tutorial-first-neural-network-python-keras/)._"
   ]
  },
  {
   "cell_type": "code",
   "execution_count": 1,
   "metadata": {},
   "outputs": [
    {
     "name": "stderr",
     "output_type": "stream",
     "text": [
      "/home/chuik/venv/ml/lib/python3.6/importlib/_bootstrap.py:219: RuntimeWarning: numpy.dtype size changed, may indicate binary incompatibility. Expected 96, got 88\n",
      "  return f(*args, **kwds)\n",
      "Using TensorFlow backend.\n"
     ]
    }
   ],
   "source": [
    "import pandas as pd\n",
    "import matplotlib.pyplot as plt\n",
    "\n",
    "# Red neuronal secuencial\n",
    "from keras.models import Sequential\n",
    "# Capa completamente conectada\n",
    "from keras.layers import Dense\n",
    "# Optimizador\n",
    "from keras.optimizers import Adam"
   ]
  },
  {
   "cell_type": "code",
   "execution_count": 2,
   "metadata": {},
   "outputs": [
    {
     "name": "stdout",
     "output_type": "stream",
     "text": [
      "<class 'pandas.core.frame.DataFrame'>\n",
      "RangeIndex: 768 entries, 0 to 767\n",
      "Data columns (total 9 columns):\n",
      "0    768 non-null int64\n",
      "1    768 non-null int64\n",
      "2    768 non-null int64\n",
      "3    768 non-null int64\n",
      "4    768 non-null int64\n",
      "5    768 non-null float64\n",
      "6    768 non-null float64\n",
      "7    768 non-null int64\n",
      "8    768 non-null int64\n",
      "dtypes: float64(2), int64(7)\n",
      "memory usage: 54.1 KB\n"
     ]
    }
   ],
   "source": [
    "data_df = pd.read_csv(\"diabetes.csv\", header=None)\n",
    "data_df.info()"
   ]
  },
  {
   "cell_type": "code",
   "execution_count": 3,
   "metadata": {},
   "outputs": [],
   "source": [
    "X = data_df.iloc[:,0:8]\n",
    "y = data_df.iloc[:,8]"
   ]
  },
  {
   "cell_type": "code",
   "execution_count": 4,
   "metadata": {},
   "outputs": [
    {
     "data": {
      "text/plain": [
       "(768, 8)"
      ]
     },
     "execution_count": 4,
     "metadata": {},
     "output_type": "execute_result"
    }
   ],
   "source": [
    "X.shape"
   ]
  },
  {
   "cell_type": "code",
   "execution_count": 5,
   "metadata": {},
   "outputs": [],
   "source": [
    "# Crear red neuronal \n",
    "model = Sequential()\n",
    "\n",
    "# Primer parámetro: cantidad de neuronas\n",
    "# Segundo (solo en la primer capa): cantidad de entrada\n",
    "model.add(Dense(12, input_dim=8, activation='relu'))\n",
    "model.add(Dense(8, activation='relu'))\n",
    "\n",
    "model.add(Dense(1, activation='sigmoid'))"
   ]
  },
  {
   "cell_type": "code",
   "execution_count": 6,
   "metadata": {},
   "outputs": [
    {
     "name": "stdout",
     "output_type": "stream",
     "text": [
      "_________________________________________________________________\n",
      "Layer (type)                 Output Shape              Param #   \n",
      "=================================================================\n",
      "dense_1 (Dense)              (None, 12)                108       \n",
      "_________________________________________________________________\n",
      "dense_2 (Dense)              (None, 8)                 104       \n",
      "_________________________________________________________________\n",
      "dense_3 (Dense)              (None, 1)                 9         \n",
      "=================================================================\n",
      "Total params: 221\n",
      "Trainable params: 221\n",
      "Non-trainable params: 0\n",
      "_________________________________________________________________\n"
     ]
    }
   ],
   "source": [
    "model.summary()"
   ]
  },
  {
   "cell_type": "code",
   "execution_count": null,
   "metadata": {},
   "outputs": [],
   "source": [
    "LR = 0.0002"
   ]
  },
  {
   "cell_type": "code",
   "execution_count": 9,
   "metadata": {},
   "outputs": [],
   "source": [
    "model.compile(\n",
    "    loss='binary_crossentropy',\n",
    "    optimizer='adam',\n",
    "    metrics=['accuracy']\n",
    ")"
   ]
  },
  {
   "cell_type": "code",
   "execution_count": 10,
   "metadata": {
    "scrolled": true
   },
   "outputs": [
    {
     "name": "stdout",
     "output_type": "stream",
     "text": [
      "Epoch 1/150\n",
      " - 0s - loss: 1.6583 - acc: 0.5599\n",
      "Epoch 2/150\n",
      " - 0s - loss: 1.0699 - acc: 0.5703\n",
      "Epoch 3/150\n",
      " - 0s - loss: 0.9540 - acc: 0.5938\n",
      "Epoch 4/150\n",
      " - 0s - loss: 0.8944 - acc: 0.6276\n",
      "Epoch 5/150\n",
      " - 0s - loss: 0.8645 - acc: 0.6146\n",
      "Epoch 6/150\n",
      " - 0s - loss: 0.8277 - acc: 0.6224\n",
      "Epoch 7/150\n",
      " - 0s - loss: 0.7992 - acc: 0.6263\n",
      "Epoch 8/150\n",
      " - 0s - loss: 0.7689 - acc: 0.6276\n",
      "Epoch 9/150\n",
      " - 0s - loss: 0.7388 - acc: 0.6445\n",
      "Epoch 10/150\n",
      " - 0s - loss: 0.7412 - acc: 0.6328\n",
      "Epoch 11/150\n",
      " - 0s - loss: 0.7062 - acc: 0.6419\n",
      "Epoch 12/150\n",
      " - 0s - loss: 0.7029 - acc: 0.6393\n",
      "Epoch 13/150\n",
      " - 0s - loss: 0.6839 - acc: 0.6510\n",
      "Epoch 14/150\n",
      " - 0s - loss: 0.6744 - acc: 0.6510\n",
      "Epoch 15/150\n",
      " - 0s - loss: 0.6631 - acc: 0.6654\n",
      "Epoch 16/150\n",
      " - 0s - loss: 0.6701 - acc: 0.6484\n",
      "Epoch 17/150\n",
      " - 0s - loss: 0.6603 - acc: 0.6471\n",
      "Epoch 18/150\n",
      " - 0s - loss: 0.6768 - acc: 0.6367\n",
      "Epoch 19/150\n",
      " - 0s - loss: 0.6424 - acc: 0.6654\n",
      "Epoch 20/150\n",
      " - 0s - loss: 0.6414 - acc: 0.6628\n",
      "Epoch 21/150\n",
      " - 0s - loss: 0.6294 - acc: 0.6680\n",
      "Epoch 22/150\n",
      " - 0s - loss: 0.6408 - acc: 0.6628\n",
      "Epoch 23/150\n",
      " - 0s - loss: 0.6485 - acc: 0.6576\n",
      "Epoch 24/150\n",
      " - 0s - loss: 0.6245 - acc: 0.6641\n",
      "Epoch 25/150\n",
      " - 0s - loss: 0.6444 - acc: 0.6641\n",
      "Epoch 26/150\n",
      " - 0s - loss: 0.6380 - acc: 0.6615\n",
      "Epoch 27/150\n",
      " - 0s - loss: 0.6562 - acc: 0.6680\n",
      "Epoch 28/150\n",
      " - 0s - loss: 0.6324 - acc: 0.6576\n",
      "Epoch 29/150\n",
      " - 0s - loss: 0.6331 - acc: 0.6745\n",
      "Epoch 30/150\n",
      " - 0s - loss: 0.6167 - acc: 0.6849\n",
      "Epoch 31/150\n",
      " - 0s - loss: 0.6066 - acc: 0.6719\n",
      "Epoch 32/150\n",
      " - 0s - loss: 0.5936 - acc: 0.6888\n",
      "Epoch 33/150\n",
      " - 0s - loss: 0.6108 - acc: 0.6823\n",
      "Epoch 34/150\n",
      " - 0s - loss: 0.6043 - acc: 0.6901\n",
      "Epoch 35/150\n",
      " - 0s - loss: 0.5997 - acc: 0.6862\n",
      "Epoch 36/150\n",
      " - 0s - loss: 0.6066 - acc: 0.6836\n",
      "Epoch 37/150\n",
      " - 0s - loss: 0.6020 - acc: 0.6979\n",
      "Epoch 38/150\n",
      " - 0s - loss: 0.6298 - acc: 0.6771\n",
      "Epoch 39/150\n",
      " - 0s - loss: 0.6091 - acc: 0.6810\n",
      "Epoch 40/150\n",
      " - 0s - loss: 0.6209 - acc: 0.6680\n",
      "Epoch 41/150\n",
      " - 0s - loss: 0.6117 - acc: 0.6810\n",
      "Epoch 42/150\n",
      " - 0s - loss: 0.6059 - acc: 0.6680\n",
      "Epoch 43/150\n",
      " - 0s - loss: 0.5949 - acc: 0.6901\n",
      "Epoch 44/150\n",
      " - 0s - loss: 0.5784 - acc: 0.7122\n",
      "Epoch 45/150\n",
      " - 0s - loss: 0.5894 - acc: 0.7044\n",
      "Epoch 46/150\n",
      " - 0s - loss: 0.6247 - acc: 0.6576\n",
      "Epoch 47/150\n",
      " - 0s - loss: 0.5937 - acc: 0.6875\n",
      "Epoch 48/150\n",
      " - 0s - loss: 0.5990 - acc: 0.6849\n",
      "Epoch 49/150\n",
      " - 0s - loss: 0.6208 - acc: 0.6719\n",
      "Epoch 50/150\n",
      " - 0s - loss: 0.5813 - acc: 0.7070\n",
      "Epoch 51/150\n",
      " - 0s - loss: 0.5922 - acc: 0.7018\n",
      "Epoch 52/150\n",
      " - 0s - loss: 0.5960 - acc: 0.6888\n",
      "Epoch 53/150\n",
      " - 0s - loss: 0.6009 - acc: 0.6901\n",
      "Epoch 54/150\n",
      " - 0s - loss: 0.5872 - acc: 0.7083\n",
      "Epoch 55/150\n",
      " - 0s - loss: 0.5702 - acc: 0.7148\n",
      "Epoch 56/150\n",
      " - 0s - loss: 0.5804 - acc: 0.7005\n",
      "Epoch 57/150\n",
      " - 0s - loss: 0.5810 - acc: 0.7161\n",
      "Epoch 58/150\n",
      " - 0s - loss: 0.5793 - acc: 0.7096\n",
      "Epoch 59/150\n",
      " - 0s - loss: 0.5743 - acc: 0.6914\n",
      "Epoch 60/150\n",
      " - 0s - loss: 0.6046 - acc: 0.6953\n",
      "Epoch 61/150\n",
      " - 0s - loss: 0.5732 - acc: 0.7188\n",
      "Epoch 62/150\n",
      " - 0s - loss: 0.5933 - acc: 0.6979\n",
      "Epoch 63/150\n",
      " - 0s - loss: 0.5680 - acc: 0.7201\n",
      "Epoch 64/150\n",
      " - 0s - loss: 0.5797 - acc: 0.6862\n",
      "Epoch 65/150\n",
      " - 0s - loss: 0.5743 - acc: 0.7031\n",
      "Epoch 66/150\n",
      " - 0s - loss: 0.5911 - acc: 0.6914\n",
      "Epoch 67/150\n",
      " - 0s - loss: 0.5802 - acc: 0.7044\n",
      "Epoch 68/150\n",
      " - 0s - loss: 0.5731 - acc: 0.7135\n",
      "Epoch 69/150\n",
      " - 0s - loss: 0.5649 - acc: 0.7135\n",
      "Epoch 70/150\n",
      " - 0s - loss: 0.5946 - acc: 0.7005\n",
      "Epoch 71/150\n",
      " - 0s - loss: 0.5946 - acc: 0.6849\n",
      "Epoch 72/150\n",
      " - 0s - loss: 0.5612 - acc: 0.7188\n",
      "Epoch 73/150\n",
      " - 0s - loss: 0.5669 - acc: 0.7370\n",
      "Epoch 74/150\n",
      " - 0s - loss: 0.5624 - acc: 0.7161\n",
      "Epoch 75/150\n",
      " - 0s - loss: 0.5621 - acc: 0.7214\n",
      "Epoch 76/150\n",
      " - 0s - loss: 0.5630 - acc: 0.7135\n",
      "Epoch 77/150\n",
      " - 0s - loss: 0.5580 - acc: 0.7227\n",
      "Epoch 78/150\n",
      " - 0s - loss: 0.5529 - acc: 0.7174\n",
      "Epoch 79/150\n",
      " - 0s - loss: 0.5621 - acc: 0.7240\n",
      "Epoch 80/150\n",
      " - 0s - loss: 0.5670 - acc: 0.7109\n",
      "Epoch 81/150\n",
      " - 0s - loss: 0.5555 - acc: 0.7227\n",
      "Epoch 82/150\n",
      " - 0s - loss: 0.5665 - acc: 0.7188\n",
      "Epoch 83/150\n",
      " - 0s - loss: 0.5464 - acc: 0.7318\n",
      "Epoch 84/150\n",
      " - 0s - loss: 0.5658 - acc: 0.7148\n",
      "Epoch 85/150\n",
      " - 0s - loss: 0.5565 - acc: 0.7135\n",
      "Epoch 86/150\n",
      " - 0s - loss: 0.5549 - acc: 0.7174\n",
      "Epoch 87/150\n",
      " - 0s - loss: 0.5615 - acc: 0.7253\n",
      "Epoch 88/150\n",
      " - 0s - loss: 0.5600 - acc: 0.7070\n",
      "Epoch 89/150\n",
      " - 0s - loss: 0.5685 - acc: 0.6901\n",
      "Epoch 90/150\n",
      " - 0s - loss: 0.5657 - acc: 0.7253\n",
      "Epoch 91/150\n",
      " - 0s - loss: 0.5576 - acc: 0.7396\n",
      "Epoch 92/150\n",
      " - 0s - loss: 0.5550 - acc: 0.7240\n",
      "Epoch 93/150\n",
      " - 0s - loss: 0.5469 - acc: 0.7253\n",
      "Epoch 94/150\n",
      " - 0s - loss: 0.5642 - acc: 0.7096\n",
      "Epoch 95/150\n",
      " - 0s - loss: 0.5536 - acc: 0.7214\n",
      "Epoch 96/150\n",
      " - 0s - loss: 0.5553 - acc: 0.7214\n",
      "Epoch 97/150\n",
      " - 0s - loss: 0.5496 - acc: 0.7292\n",
      "Epoch 98/150\n",
      " - 0s - loss: 0.5782 - acc: 0.7135\n",
      "Epoch 99/150\n",
      " - 0s - loss: 0.5455 - acc: 0.7279\n",
      "Epoch 100/150\n",
      " - 0s - loss: 0.5507 - acc: 0.7201\n",
      "Epoch 101/150\n",
      " - 0s - loss: 0.5466 - acc: 0.7148\n",
      "Epoch 102/150\n",
      " - 0s - loss: 0.5469 - acc: 0.7201\n",
      "Epoch 103/150\n",
      " - 0s - loss: 0.5475 - acc: 0.7253\n",
      "Epoch 104/150\n",
      " - 0s - loss: 0.5483 - acc: 0.7227\n",
      "Epoch 105/150\n",
      " - 0s - loss: 0.5582 - acc: 0.7305\n",
      "Epoch 106/150\n",
      " - 0s - loss: 0.5591 - acc: 0.7253\n",
      "Epoch 107/150\n",
      " - 0s - loss: 0.5409 - acc: 0.7331\n",
      "Epoch 108/150\n",
      " - 0s - loss: 0.5569 - acc: 0.7161\n",
      "Epoch 109/150\n",
      " - 0s - loss: 0.5363 - acc: 0.7318\n",
      "Epoch 110/150\n",
      " - 0s - loss: 0.5432 - acc: 0.7188\n",
      "Epoch 111/150\n",
      " - 0s - loss: 0.5641 - acc: 0.7357\n",
      "Epoch 112/150\n",
      " - 0s - loss: 0.5321 - acc: 0.7383\n",
      "Epoch 113/150\n",
      " - 0s - loss: 0.5368 - acc: 0.7357\n",
      "Epoch 114/150\n",
      " - 0s - loss: 0.5327 - acc: 0.7174\n",
      "Epoch 115/150\n",
      " - 0s - loss: 0.5368 - acc: 0.7396\n",
      "Epoch 116/150\n",
      " - 0s - loss: 0.5291 - acc: 0.7526\n",
      "Epoch 117/150\n",
      " - 0s - loss: 0.5336 - acc: 0.7409\n",
      "Epoch 118/150\n",
      " - 0s - loss: 0.5282 - acc: 0.7539\n",
      "Epoch 119/150\n",
      " - 0s - loss: 0.5576 - acc: 0.7305\n",
      "Epoch 120/150\n",
      " - 0s - loss: 0.5791 - acc: 0.7148\n",
      "Epoch 121/150\n",
      " - 0s - loss: 0.5412 - acc: 0.7279\n",
      "Epoch 122/150\n",
      " - 0s - loss: 0.5401 - acc: 0.7422\n",
      "Epoch 123/150\n",
      " - 0s - loss: 0.5691 - acc: 0.7083\n",
      "Epoch 124/150\n",
      " - 0s - loss: 0.5471 - acc: 0.7148\n",
      "Epoch 125/150\n",
      " - 0s - loss: 0.5565 - acc: 0.7161\n",
      "Epoch 126/150\n",
      " - 0s - loss: 0.5499 - acc: 0.7357\n",
      "Epoch 127/150\n",
      " - 0s - loss: 0.5210 - acc: 0.7552\n",
      "Epoch 128/150\n",
      " - 0s - loss: 0.5233 - acc: 0.7396\n",
      "Epoch 129/150\n",
      " - 0s - loss: 0.5268 - acc: 0.7448\n",
      "Epoch 130/150\n",
      " - 0s - loss: 0.5242 - acc: 0.7370\n",
      "Epoch 131/150\n",
      " - 0s - loss: 0.5341 - acc: 0.7279\n",
      "Epoch 132/150\n",
      " - 0s - loss: 0.5397 - acc: 0.7435\n",
      "Epoch 133/150\n",
      " - 0s - loss: 0.5314 - acc: 0.7383\n",
      "Epoch 134/150\n",
      " - 0s - loss: 0.5327 - acc: 0.7370\n",
      "Epoch 135/150\n",
      " - 0s - loss: 0.5279 - acc: 0.7474\n",
      "Epoch 136/150\n",
      " - 0s - loss: 0.5204 - acc: 0.7487\n",
      "Epoch 137/150\n",
      " - 0s - loss: 0.5610 - acc: 0.7161\n",
      "Epoch 138/150\n",
      " - 0s - loss: 0.5494 - acc: 0.7122\n",
      "Epoch 139/150\n",
      " - 0s - loss: 0.5433 - acc: 0.7344\n",
      "Epoch 140/150\n",
      " - 0s - loss: 0.5214 - acc: 0.7357\n",
      "Epoch 141/150\n",
      " - 0s - loss: 0.5337 - acc: 0.7409\n",
      "Epoch 142/150\n",
      " - 0s - loss: 0.5315 - acc: 0.7396\n",
      "Epoch 143/150\n",
      " - 0s - loss: 0.5324 - acc: 0.7409\n",
      "Epoch 144/150\n",
      " - 0s - loss: 0.5690 - acc: 0.7135\n",
      "Epoch 145/150\n",
      " - 0s - loss: 0.5355 - acc: 0.7331\n",
      "Epoch 146/150\n",
      " - 0s - loss: 0.5165 - acc: 0.7487\n",
      "Epoch 147/150\n",
      " - 0s - loss: 0.5171 - acc: 0.7487\n",
      "Epoch 148/150\n",
      " - 0s - loss: 0.5238 - acc: 0.7396\n",
      "Epoch 149/150\n",
      " - 0s - loss: 0.5248 - acc: 0.7513\n",
      "Epoch 150/150\n",
      " - 0s - loss: 0.5332 - acc: 0.7331\n"
     ]
    }
   ],
   "source": [
    "historial = model.fit(\n",
    "    X.values,\n",
    "    y.values,\n",
    "    epochs=150,\n",
    "    verbose=2\n",
    ")"
   ]
  },
  {
   "cell_type": "code",
   "execution_count": 11,
   "metadata": {},
   "outputs": [
    {
     "data": {
      "image/png": "[encoded data removed]",
      "text/plain": [
       "<matplotlib.figure.Figure at 0x7fd69dfadeb8>"
      ]
     },
     "metadata": {},
     "output_type": "display_data"
    }
   ],
   "source": [
    "plt.plot(historial.history['loss'])\n",
    "plt.show()"
   ]
  },
  {
   "cell_type": "code",
   "execution_count": 12,
   "metadata": {},
   "outputs": [
    {
     "data": {
      "image/png": "[encoded data removed]",
      "text/plain": [
       "<matplotlib.figure.Figure at 0x7fd69c1bf0f0>"
      ]
     },
     "metadata": {},
     "output_type": "display_data"
    }
   ],
   "source": [
    "plt.plot(historial.history['acc'])\n",
    "plt.show()"
   ]
  }
 ],
 "metadata": {
  "kernelspec": {
   "display_name": "Python 3",
   "language": "python",
   "name": "python3"
  },
  "language_info": {
   "codemirror_mode": {
    "name": "ipython",
    "version": 3
   },
   "file_extension": ".py",
   "mimetype": "text/x-python",
   "name": "python",
   "nbconvert_exporter": "python",
   "pygments_lexer": "ipython3",
   "version": "3.6.3"
  }
 },
 "nbformat": 4,
 "nbformat_minor": 2
}
