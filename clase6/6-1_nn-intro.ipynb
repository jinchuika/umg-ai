{
 "cells": [
  {
   "cell_type": "markdown",
   "metadata": {},
   "source": [
    "# Redes neuronales\n",
    "\n",
    "Las redes neuronales (NN) son uno de los modelos que han obtenido mejor rendimiento en los últimos años de desarrollo de inteligencia artificial.\n",
    "\n",
    "El planteamiento original de las redes neuronales trataba de imitar el funcionamiento del cerebro humano. Sin embargo, con los avances en las últimas décadas de investigación, se optó por cambiar el enfoque hacia uno más basado en métodos matemáticos, gracias a los cuales se obtuvo un rendimiento muchísimo mejor."
   ]
  },
  {
   "cell_type": "markdown",
   "metadata": {},
   "source": [
    "Una red neuronal funciona **aproximando** una función matemática. Por ejemplo, la siguiente expresión:\n",
    "\n",
    "$$f(X) = y$$\n",
    "\n",
    "Indica que la función $f$ relaciona un punto de $X$ con un punto en $y$. Entonces podemos establecer la relación como:\n",
    "\n",
    "$$X \\rightarrow f \\rightarrow y$$\n",
    "\n",
    "Una red neuronal, funciona _aproximando_ la relación entre $X$ y $y$ para sustituir a $f$. En ese caso:\n",
    "\n",
    "$$X \\rightarrow NN \\approx y$$\n",
    "\n",
    "Lo cual significa que con una red neuronal obtendríamos resultados _similares_ a los que obtendríamos con $f$. La gran ventaja de utilizar este método es que en la vida real $f$ casi nunca está definida, o bien, es desconocida. Para esos casos, ser capaces de aproximar los resultados de $f$ abre muchas posibilidades."
   ]
  },
  {
   "cell_type": "markdown",
   "metadata": {},
   "source": [
    "## Funcionamiento de una red neuronal\n",
    "\n",
    "Una red neuronal es una cadena de capas de celdas denominadas neuronas.\n",
    "\n",
    "![nn1](src/nn1.jpg)\n",
    "\n",
    "Los datos _fluyen_ desde una **capa de entrada**, hacia una serie de **capas ocultas** para producir una salida en una **capa de salida**.\n",
    "\n",
    "Al pasar de capa a capa, se debe utilizar una **función de activación**, que nos indicará las neuronas que deben activarse en la siguiente capa.\n",
    "\n",
    "Dicha función puede generalizarse de la siguiente forma:\n",
    "\n",
    "$$X_1 * W_1 = y_1$$\n",
    "\n",
    "Donde $W$ es un valor conocido como peso (*weight*), que deberá ser encontrado durante el proceso de entrenamiento. Cada capa tiene su propia función de activación y su propia $W$. Por lo tanto:\n",
    "\n",
    "$$activate(X_1, W_1) = y_1$$\n",
    "$$activate(X_2, W_2) = y_2$$\n",
    "$$\\dots$$\n",
    "$$activate(X_n, W_n) = y_n$$"
   ]
  },
  {
   "cell_type": "markdown",
   "metadata": {},
   "source": [
    "## Entrenamiento de una red neuronal\n",
    "\n",
    "Al empezar la definición de una red neuronal, todos los $W$ se generan de forma aleatoria. Como es de esperar, utilizar estos $W$ arrojará resultados que no son los esperados. Podemos calcular calcular la diferencia entre los resultados esperados y los obtenidos de varias maneras, pero en general a esa diferencia le llamamos **error**. Mientras más alto sea el valor del error, peores serán los resultados.\n",
    "\n",
    "![error](src/error.png)\n",
    "\n",
    "A la función que calcula el error le llamaremos **función de pérdida**."
   ]
  },
  {
   "cell_type": "markdown",
   "metadata": {},
   "source": [
    "## Optimización\n",
    "\n",
    "Como sabemos que cuando la pérdida es muy alta nuestro algoritmo funciona mal, podemos asumir que cuando es muy baja nuestro algoritmo se comporta bastante bien. Por lo tanto, reducir la pérdida lo más que sea posible permitirá mejorar el rendimiento de nuestra red neuronal. Al proceso de reducir la pérdida le llamaremos **optimización**.\n",
    "\n",
    "![loss](src/loss.png)\n",
    "\n",
    "La optimización funciona modificando los valorers de las $W$, siguiendo la dirección de la pendiente de nuestra función de pérdida. El proceso funciona de la siguiente manera:\n",
    "\n",
    "```\n",
    "Generar W aleatoria\n",
    "Iniciar ciclo\n",
    "    Calcular pérdida (L)\n",
    "    Calcular la pendiente de L para modificar W\n",
    "    Modificar W\n",
    "Repetir hasta L = 0\n",
    "```\n",
    "\n",
    "A cada repetición de este ciclo le llamaremos **epoch**."
   ]
  }
 ],
 "metadata": {
  "kernelspec": {
   "display_name": "Python 3",
   "language": "python",
   "name": "python3"
  },
  "language_info": {
   "codemirror_mode": {
    "name": "ipython",
    "version": 3
   },
   "file_extension": ".py",
   "mimetype": "text/x-python",
   "name": "python",
   "nbconvert_exporter": "python",
   "pygments_lexer": "ipython3",
   "version": "3.6.3"
  }
 },
 "nbformat": 4,
 "nbformat_minor": 2
}
