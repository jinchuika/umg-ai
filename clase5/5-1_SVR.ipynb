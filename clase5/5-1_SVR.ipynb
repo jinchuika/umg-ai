{
 "cells": [
  {
   "cell_type": "markdown",
   "metadata": {},
   "source": [
    "# Regresión"
   ]
  },
  {
   "cell_type": "markdown",
   "metadata": {},
   "source": [
    "### Por qué utilizar regresión\n",
    "\n",
    "Los datos que deseamos predecir no siempre se encuentran limitados a un conjunto de clases predeterminado. Para esos casos, no se puede utilizar un problema de clasificación puesto que la cantidad de clases tendría que ser infinita.\n",
    "\n",
    "Por ejemplo, si quisiéramos establecer las posibilidades de respuesta para el país de procedencia de una persona, podemos crear un conjunto de todos los países que existen en el mundo. Si bien el listado puede ser un poco largo, tenemos una cantidad finita de opciones de las cuales elegir una. Sin embargo, si quisiéramos hacer lo mismo con su peso, sería imposible definir cada una de las opciones de respuesta. ¿Las opciones serían 50kg, 51kg, 53kg; hasta qué límite? Y sería aún más complejo si empezáramos a incluir decimales. ¿50.1kg, 50.2kg, 50.3kg?\n",
    "\n",
    "Este tipo de opciones de respuesta se conoce como **continuo**, pues no pertenecen a un conjunto prestablecido de opciones. Cuando tratamos de predecir un dato de esta naturaleza, nos enfrentamos a un problema de regresión."
   ]
  },
  {
   "cell_type": "code",
   "execution_count": 1,
   "metadata": {},
   "outputs": [
    {
     "name": "stderr",
     "output_type": "stream",
     "text": [
      "/home/chuik/venv/ml/lib/python3.6/importlib/_bootstrap.py:219: RuntimeWarning: numpy.dtype size changed, may indicate binary incompatibility. Expected 96, got 88\n",
      "  return f(*args, **kwds)\n"
     ]
    }
   ],
   "source": [
    "from time import time\n",
    "import pandas as pd\n",
    "import numpy as np\n",
    "\n",
    "from sklearn.svm import SVR\n",
    "from sklearn.metrics import r2_score\n",
    "from sklearn.model_selection import train_test_split\n",
    "\n",
    "import matplotlib.pyplot as plt"
   ]
  },
  {
   "cell_type": "markdown",
   "metadata": {},
   "source": [
    "Empecemos utilizando el set de datos sobre la compañía de telefonía."
   ]
  },
  {
   "cell_type": "code",
   "execution_count": 2,
   "metadata": {},
   "outputs": [
    {
     "data": {
      "text/html": [
       "<div>\n",
       "<style scoped>\n",
       "    .dataframe tbody tr th:only-of-type {\n",
       "        vertical-align: middle;\n",
       "    }\n",
       "\n",
       "    .dataframe tbody tr th {\n",
       "        vertical-align: top;\n",
       "    }\n",
       "\n",
       "    .dataframe thead th {\n",
       "        text-align: right;\n",
       "    }\n",
       "</style>\n",
       "<table border=\"1\" class=\"dataframe\">\n",
       "  <thead>\n",
       "    <tr style=\"text-align: right;\">\n",
       "      <th></th>\n",
       "      <th>gender</th>\n",
       "      <th>Partner</th>\n",
       "      <th>Dependents</th>\n",
       "      <th>PhoneService</th>\n",
       "      <th>MultipleLines</th>\n",
       "      <th>InternetService</th>\n",
       "      <th>SeniorCitizen</th>\n",
       "      <th>MonthlyCharges</th>\n",
       "    </tr>\n",
       "  </thead>\n",
       "  <tbody>\n",
       "    <tr>\n",
       "      <th>0</th>\n",
       "      <td>0</td>\n",
       "      <td>1</td>\n",
       "      <td>0</td>\n",
       "      <td>0</td>\n",
       "      <td>1</td>\n",
       "      <td>0</td>\n",
       "      <td>0</td>\n",
       "      <td>29.85</td>\n",
       "    </tr>\n",
       "    <tr>\n",
       "      <th>1</th>\n",
       "      <td>1</td>\n",
       "      <td>0</td>\n",
       "      <td>0</td>\n",
       "      <td>1</td>\n",
       "      <td>0</td>\n",
       "      <td>0</td>\n",
       "      <td>0</td>\n",
       "      <td>56.95</td>\n",
       "    </tr>\n",
       "    <tr>\n",
       "      <th>2</th>\n",
       "      <td>1</td>\n",
       "      <td>0</td>\n",
       "      <td>0</td>\n",
       "      <td>1</td>\n",
       "      <td>0</td>\n",
       "      <td>0</td>\n",
       "      <td>0</td>\n",
       "      <td>53.85</td>\n",
       "    </tr>\n",
       "    <tr>\n",
       "      <th>3</th>\n",
       "      <td>1</td>\n",
       "      <td>0</td>\n",
       "      <td>0</td>\n",
       "      <td>0</td>\n",
       "      <td>1</td>\n",
       "      <td>0</td>\n",
       "      <td>0</td>\n",
       "      <td>42.30</td>\n",
       "    </tr>\n",
       "    <tr>\n",
       "      <th>4</th>\n",
       "      <td>0</td>\n",
       "      <td>0</td>\n",
       "      <td>0</td>\n",
       "      <td>1</td>\n",
       "      <td>0</td>\n",
       "      <td>1</td>\n",
       "      <td>0</td>\n",
       "      <td>70.70</td>\n",
       "    </tr>\n",
       "  </tbody>\n",
       "</table>\n",
       "</div>"
      ],
      "text/plain": [
       "   gender  Partner  Dependents  PhoneService  MultipleLines  InternetService  \\\n",
       "0       0        1           0             0              1                0   \n",
       "1       1        0           0             1              0                0   \n",
       "2       1        0           0             1              0                0   \n",
       "3       1        0           0             0              1                0   \n",
       "4       0        0           0             1              0                1   \n",
       "\n",
       "   SeniorCitizen  MonthlyCharges  \n",
       "0              0           29.85  \n",
       "1              0           56.95  \n",
       "2              0           53.85  \n",
       "3              0           42.30  \n",
       "4              0           70.70  "
      ]
     },
     "execution_count": 2,
     "metadata": {},
     "output_type": "execute_result"
    }
   ],
   "source": [
    "df = pd.read_csv('datos_limpios.csv')\n",
    "df.head()"
   ]
  },
  {
   "cell_type": "markdown",
   "metadata": {},
   "source": [
    "Empezamos definiendo cuál será nuestra columna objetivo (`y`), que en este caso es `MonthlyCharges`."
   ]
  },
  {
   "cell_type": "code",
   "execution_count": 3,
   "metadata": {},
   "outputs": [],
   "source": [
    "X = df.iloc[:, 0:len(df.columns) - 1]\n",
    "y = df[['MonthlyCharges']]"
   ]
  },
  {
   "cell_type": "markdown",
   "metadata": {},
   "source": [
    "Como podemos ver, los datos de la columna objetivo son continuos, pues no pertenecen a ningún conjunto de clases."
   ]
  },
  {
   "cell_type": "code",
   "execution_count": 4,
   "metadata": {},
   "outputs": [
    {
     "data": {
      "text/html": [
       "<div>\n",
       "<style scoped>\n",
       "    .dataframe tbody tr th:only-of-type {\n",
       "        vertical-align: middle;\n",
       "    }\n",
       "\n",
       "    .dataframe tbody tr th {\n",
       "        vertical-align: top;\n",
       "    }\n",
       "\n",
       "    .dataframe thead th {\n",
       "        text-align: right;\n",
       "    }\n",
       "</style>\n",
       "<table border=\"1\" class=\"dataframe\">\n",
       "  <thead>\n",
       "    <tr style=\"text-align: right;\">\n",
       "      <th></th>\n",
       "      <th>MonthlyCharges</th>\n",
       "    </tr>\n",
       "  </thead>\n",
       "  <tbody>\n",
       "    <tr>\n",
       "      <th>0</th>\n",
       "      <td>29.85</td>\n",
       "    </tr>\n",
       "    <tr>\n",
       "      <th>1</th>\n",
       "      <td>56.95</td>\n",
       "    </tr>\n",
       "    <tr>\n",
       "      <th>2</th>\n",
       "      <td>53.85</td>\n",
       "    </tr>\n",
       "    <tr>\n",
       "      <th>3</th>\n",
       "      <td>42.30</td>\n",
       "    </tr>\n",
       "    <tr>\n",
       "      <th>4</th>\n",
       "      <td>70.70</td>\n",
       "    </tr>\n",
       "  </tbody>\n",
       "</table>\n",
       "</div>"
      ],
      "text/plain": [
       "   MonthlyCharges\n",
       "0           29.85\n",
       "1           56.95\n",
       "2           53.85\n",
       "3           42.30\n",
       "4           70.70"
      ]
     },
     "execution_count": 4,
     "metadata": {},
     "output_type": "execute_result"
    }
   ],
   "source": [
    "y.head()"
   ]
  },
  {
   "cell_type": "code",
   "execution_count": 5,
   "metadata": {},
   "outputs": [],
   "source": [
    "# Separamos un set de datos de entrenamiento y de prueba\n",
    "X_train, X_test, y_train, y_test = train_test_split(X, y)"
   ]
  },
  {
   "cell_type": "code",
   "execution_count": 37,
   "metadata": {},
   "outputs": [
    {
     "name": "stdout",
     "output_type": "stream",
     "text": [
      "Entrenamiento finalizado en 1.0950944423675537 segundos\n"
     ]
    }
   ],
   "source": [
    "# Definimos nuestro algoritmo de regresión\n",
    "regresor = SVR(kernel='linear')\n",
    "hora_inicio = time()\n",
    "\n",
    "# Entrenamiento del algoritmo\n",
    "regresor.fit(X_train.values, y_train.values.ravel())\n",
    "print(f'Entrenamiento finalizado en {time() - hora_inicio} segundos')"
   ]
  },
  {
   "cell_type": "markdown",
   "metadata": {},
   "source": [
    "## Evaluando el rendimiento del regresor\n",
    "\n",
    "Al hacer una predicción con un algoritmo de regresión, no podemos hablar de fallos o aciertos, pues no hay un dato específico que intentemos predecir. Este concepto se entiended más fáci con un ejemplo: si un algoritmo que predice `10.2999999` cuando la respuesta correcta era `10.3`, podemos decir que se está desempeñando bastante bien. Sabemos que esto es cierto porque se aproxima mucho a la respuesta correcta. Sin embargo, en un problema de clasificación, diríamos que la respuesta es categóricamente errónea, pues no obtuvimos la respuesta _correcta_. Debido a esta diferencia entre la definición sobre qué es una respuesta correcta, no podemos utilizar la misma medida de rendimiento para un problema de regresión y uno de clasificación.\n",
    "\n",
    "Si bien la métrica estándar para un problema de clasificación es la precisión (`accuracy`), un problema de regresión tiene muchas formas de medir su rendimiento."
   ]
  },
  {
   "cell_type": "code",
   "execution_count": 38,
   "metadata": {},
   "outputs": [],
   "source": [
    "# Hagamos una serie de predicciones con los datos de prueba\n",
    "y_pred = regresor.predict(X_test)"
   ]
  },
  {
   "cell_type": "code",
   "execution_count": 39,
   "metadata": {},
   "outputs": [
    {
     "data": {
      "image/png": "[encoded data removed]",
      "text/plain": [
       "<matplotlib.figure.Figure at 0x7f8bb9a6a978>"
      ]
     },
     "metadata": {},
     "output_type": "display_data"
    }
   ],
   "source": [
    "cantidad_probar = 1000\n",
    "X_axis = np.arange(cantidad_probar)\n",
    "\n",
    "fig, ax = plt.subplots()\n",
    "ax.scatter(X_axis, y_test.iloc[0:cantidad_probar].values)\n",
    "ax.scatter(X_axis, y_pred[0:cantidad_probar])\n",
    "plt.show()"
   ]
  },
  {
   "cell_type": "code",
   "execution_count": 33,
   "metadata": {},
   "outputs": [
    {
     "data": {
      "text/plain": [
       "0.8783215856347629"
      ]
     },
     "execution_count": 33,
     "metadata": {},
     "output_type": "execute_result"
    }
   ],
   "source": [
    "r2_score(y_test, y_pred)"
   ]
  }
 ],
 "metadata": {
  "kernelspec": {
   "display_name": "Python 3",
   "language": "python",
   "name": "python3"
  },
  "language_info": {
   "codemirror_mode": {
    "name": "ipython",
    "version": 3
   },
   "file_extension": ".py",
   "mimetype": "text/x-python",
   "name": "python",
   "nbconvert_exporter": "python",
   "pygments_lexer": "ipython3",
   "version": "3.6.3"
  }
 },
 "nbformat": 4,
 "nbformat_minor": 2
}
